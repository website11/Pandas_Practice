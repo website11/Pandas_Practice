{
 "cells": [
  {
   "cell_type": "code",
   "execution_count": 28,
   "id": "d6ae0c4f-9ff7-4df5-88a9-499ff11420f5",
   "metadata": {},
   "outputs": [],
   "source": [
    "import numpy as np\n",
    "import pandas as pd\n",
    "import pyarrow as pa\n",
    "import polars as pl"
   ]
  },
  {
   "cell_type": "code",
   "execution_count": 67,
   "id": "9d959c01-bdb9-4eef-b9e6-1b2ad5aa9054",
   "metadata": {},
   "outputs": [
    {
     "data": {
      "text/plain": [
       "array([82, 80, 89, 98, 83, 85, 86, 96, 82, 74])"
      ]
     },
     "execution_count": 67,
     "metadata": {},
     "output_type": "execute_result"
    }
   ],
   "source": [
    "g = np.random.default_rng()\n",
    "scores = g.integers(70,100,10)\n",
    "months = [\"September\",\"October\",\"November\",\"December\",\"January\",\"February\",\"March\",\"April\",\"May\",\"June\"]\n",
    "scores"
   ]
  },
  {
   "cell_type": "code",
   "execution_count": 68,
   "id": "dbdee4f6-71b6-46e7-b963-a4cc58f2ad40",
   "metadata": {},
   "outputs": [],
   "source": [
    "# Pandas Version\n",
    "pd_scores = pd.Series(scores)"
   ]
  },
  {
   "cell_type": "code",
   "execution_count": 69,
   "id": "11c9aedb-fa06-4d30-9021-450057a21456",
   "metadata": {},
   "outputs": [
    {
     "data": {
      "text/plain": [
       "September    82\n",
       "October      80\n",
       "November     89\n",
       "December     98\n",
       "January      83\n",
       "February     85\n",
       "March        86\n",
       "April        96\n",
       "May          82\n",
       "June         74\n",
       "dtype: int64"
      ]
     },
     "execution_count": 69,
     "metadata": {},
     "output_type": "execute_result"
    }
   ],
   "source": [
    "pd_scores.index = months\n",
    "pd_scores"
   ]
  },
  {
   "cell_type": "code",
   "execution_count": 70,
   "id": "ea08969b-46cb-4e37-9ed5-7bd01cc675c2",
   "metadata": {},
   "outputs": [
    {
     "data": {
      "text/html": [
       "<div><style>\n",
       ".dataframe > thead > tr,\n",
       ".dataframe > tbody > tr {\n",
       "  text-align: right;\n",
       "  white-space: pre-wrap;\n",
       "}\n",
       "</style>\n",
       "<small>shape: (10, 2)</small><table border=\"1\" class=\"dataframe\"><thead><tr><th>month</th><th>scores</th></tr><tr><td>str</td><td>i64</td></tr></thead><tbody><tr><td>&quot;September&quot;</td><td>82</td></tr><tr><td>&quot;October&quot;</td><td>80</td></tr><tr><td>&quot;November&quot;</td><td>89</td></tr><tr><td>&quot;December&quot;</td><td>98</td></tr><tr><td>&quot;January&quot;</td><td>83</td></tr><tr><td>&quot;February&quot;</td><td>85</td></tr><tr><td>&quot;March&quot;</td><td>86</td></tr><tr><td>&quot;April&quot;</td><td>96</td></tr><tr><td>&quot;May&quot;</td><td>82</td></tr><tr><td>&quot;June&quot;</td><td>74</td></tr></tbody></table></div>"
      ],
      "text/plain": [
       "shape: (10, 2)\n",
       "┌───────────┬────────┐\n",
       "│ month     ┆ scores │\n",
       "│ ---       ┆ ---    │\n",
       "│ str       ┆ i64    │\n",
       "╞═══════════╪════════╡\n",
       "│ September ┆ 82     │\n",
       "│ October   ┆ 80     │\n",
       "│ November  ┆ 89     │\n",
       "│ December  ┆ 98     │\n",
       "│ January   ┆ 83     │\n",
       "│ February  ┆ 85     │\n",
       "│ March     ┆ 86     │\n",
       "│ April     ┆ 96     │\n",
       "│ May       ┆ 82     │\n",
       "│ June      ┆ 74     │\n",
       "└───────────┴────────┘"
      ]
     },
     "execution_count": 70,
     "metadata": {},
     "output_type": "execute_result"
    }
   ],
   "source": [
    "# Polars Version\n",
    "pl_scores = pl.DataFrame({\n",
    "    \"month\":months,\n",
    "    \"scores\":scores\n",
    "})\n",
    "pl_scores"
   ]
  },
  {
   "cell_type": "code",
   "execution_count": 71,
   "id": "a1ccf317-c685-458c-8e92-0e51b336edde",
   "metadata": {},
   "outputs": [
    {
     "data": {
      "text/plain": [
       "np.float64(85.5)"
      ]
     },
     "execution_count": 71,
     "metadata": {},
     "output_type": "execute_result"
    }
   ],
   "source": [
    "# Pandas Student Average Over a Year\n",
    "pd_scores.mean()"
   ]
  },
  {
   "cell_type": "code",
   "execution_count": 72,
   "id": "7f3e499f-40cc-477a-8f80-800932f22493",
   "metadata": {},
   "outputs": [
    {
     "data": {
      "text/html": [
       "<div><style>\n",
       ".dataframe > thead > tr,\n",
       ".dataframe > tbody > tr {\n",
       "  text-align: right;\n",
       "  white-space: pre-wrap;\n",
       "}\n",
       "</style>\n",
       "<small>shape: (1, 1)</small><table border=\"1\" class=\"dataframe\"><thead><tr><th>scores</th></tr><tr><td>f64</td></tr></thead><tbody><tr><td>85.5</td></tr></tbody></table></div>"
      ],
      "text/plain": [
       "shape: (1, 1)\n",
       "┌────────┐\n",
       "│ scores │\n",
       "│ ---    │\n",
       "│ f64    │\n",
       "╞════════╡\n",
       "│ 85.5   │\n",
       "└────────┘"
      ]
     },
     "execution_count": 72,
     "metadata": {},
     "output_type": "execute_result"
    }
   ],
   "source": [
    "# Polars Student Average Over a Year\n",
    "pl_scores.select(pl.mean(\"scores\"))"
   ]
  },
  {
   "cell_type": "code",
   "execution_count": 73,
   "id": "314bdd67-9854-44c3-bf5a-a80575a322b9",
   "metadata": {},
   "outputs": [
    {
     "data": {
      "text/plain": [
       "np.float64(86.4)"
      ]
     },
     "execution_count": 73,
     "metadata": {},
     "output_type": "execute_result"
    }
   ],
   "source": [
    "# Pandas Student Average for First Five Months\n",
    "pd_scores[0:5].mean()"
   ]
  },
  {
   "cell_type": "code",
   "execution_count": 74,
   "id": "879b3c76-145e-4959-a9e5-436116e558d0",
   "metadata": {},
   "outputs": [
    {
     "data": {
      "text/html": [
       "<div><style>\n",
       ".dataframe > thead > tr,\n",
       ".dataframe > tbody > tr {\n",
       "  text-align: right;\n",
       "  white-space: pre-wrap;\n",
       "}\n",
       "</style>\n",
       "<small>shape: (1, 1)</small><table border=\"1\" class=\"dataframe\"><thead><tr><th>scores</th></tr><tr><td>f64</td></tr></thead><tbody><tr><td>86.4</td></tr></tbody></table></div>"
      ],
      "text/plain": [
       "shape: (1, 1)\n",
       "┌────────┐\n",
       "│ scores │\n",
       "│ ---    │\n",
       "│ f64    │\n",
       "╞════════╡\n",
       "│ 86.4   │\n",
       "└────────┘"
      ]
     },
     "execution_count": 74,
     "metadata": {},
     "output_type": "execute_result"
    }
   ],
   "source": [
    "# Polars Student Average Over First Five Months\n",
    "pl_scores[0:5].select(pl.mean(\"scores\"))"
   ]
  },
  {
   "cell_type": "code",
   "execution_count": null,
   "id": "f93bf153-b72a-4c30-8b03-469852d34a7d",
   "metadata": {},
   "outputs": [],
   "source": []
  }
 ],
 "metadata": {
  "kernelspec": {
   "display_name": "Python 3 (ipykernel)",
   "language": "python",
   "name": "python3"
  },
  "language_info": {
   "codemirror_mode": {
    "name": "ipython",
    "version": 3
   },
   "file_extension": ".py",
   "mimetype": "text/x-python",
   "name": "python",
   "nbconvert_exporter": "python",
   "pygments_lexer": "ipython3",
   "version": "3.13.2"
  }
 },
 "nbformat": 4,
 "nbformat_minor": 5
}
