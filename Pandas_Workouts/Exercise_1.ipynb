{
 "cells": [
  {
   "cell_type": "code",
   "execution_count": 28,
   "id": "d6ae0c4f-9ff7-4df5-88a9-499ff11420f5",
   "metadata": {},
   "outputs": [],
   "source": [
    "import numpy as np\n",
    "import pandas as pd\n",
    "import pyarrow as pa\n",
    "import polars as pl"
   ]
  },
  {
   "cell_type": "code",
   "execution_count": 36,
   "id": "9d959c01-bdb9-4eef-b9e6-1b2ad5aa9054",
   "metadata": {},
   "outputs": [
    {
     "data": {
      "text/plain": [
       "array([76, 80, 77, 84, 92, 98, 98, 85, 73, 91, 99, 97])"
      ]
     },
     "execution_count": 36,
     "metadata": {},
     "output_type": "execute_result"
    }
   ],
   "source": [
    "g = np.random.default_rng()\n",
    "scores = g.integers(70,100,12)\n",
    "months = [\"January\",\"February\",\"March\",\"April\",\"May\",\"June\",\"July\",\"August\",\"September\",\"October\",\"November\",\"December\"]\n",
    "scores"
   ]
  },
  {
   "cell_type": "code",
   "execution_count": 30,
   "id": "dbdee4f6-71b6-46e7-b963-a4cc58f2ad40",
   "metadata": {},
   "outputs": [],
   "source": [
    "# Pandas Version\n",
    "pd_scores = pd.Series(scores)"
   ]
  },
  {
   "cell_type": "code",
   "execution_count": 41,
   "id": "11c9aedb-fa06-4d30-9021-450057a21456",
   "metadata": {},
   "outputs": [
    {
     "data": {
      "text/plain": [
       "January      75\n",
       "February     74\n",
       "March        84\n",
       "April        71\n",
       "May          83\n",
       "June         77\n",
       "July         98\n",
       "August       93\n",
       "September    73\n",
       "October      87\n",
       "November     80\n",
       "December     72\n",
       "dtype: int64"
      ]
     },
     "execution_count": 41,
     "metadata": {},
     "output_type": "execute_result"
    }
   ],
   "source": [
    "pd_scores.index = months\n",
    "pd_scores"
   ]
  },
  {
   "cell_type": "code",
   "execution_count": 40,
   "id": "ea08969b-46cb-4e37-9ed5-7bd01cc675c2",
   "metadata": {},
   "outputs": [
    {
     "data": {
      "text/html": [
       "<div><style>\n",
       ".dataframe > thead > tr,\n",
       ".dataframe > tbody > tr {\n",
       "  text-align: right;\n",
       "  white-space: pre-wrap;\n",
       "}\n",
       "</style>\n",
       "<small>shape: (12, 2)</small><table border=\"1\" class=\"dataframe\"><thead><tr><th>month</th><th>scores</th></tr><tr><td>str</td><td>i64</td></tr></thead><tbody><tr><td>&quot;January&quot;</td><td>76</td></tr><tr><td>&quot;February&quot;</td><td>80</td></tr><tr><td>&quot;March&quot;</td><td>77</td></tr><tr><td>&quot;April&quot;</td><td>84</td></tr><tr><td>&quot;May&quot;</td><td>92</td></tr><tr><td>&hellip;</td><td>&hellip;</td></tr><tr><td>&quot;August&quot;</td><td>85</td></tr><tr><td>&quot;September&quot;</td><td>73</td></tr><tr><td>&quot;October&quot;</td><td>91</td></tr><tr><td>&quot;November&quot;</td><td>99</td></tr><tr><td>&quot;December&quot;</td><td>97</td></tr></tbody></table></div>"
      ],
      "text/plain": [
       "shape: (12, 2)\n",
       "┌───────────┬────────┐\n",
       "│ month     ┆ scores │\n",
       "│ ---       ┆ ---    │\n",
       "│ str       ┆ i64    │\n",
       "╞═══════════╪════════╡\n",
       "│ January   ┆ 76     │\n",
       "│ February  ┆ 80     │\n",
       "│ March     ┆ 77     │\n",
       "│ April     ┆ 84     │\n",
       "│ May       ┆ 92     │\n",
       "│ …         ┆ …      │\n",
       "│ August    ┆ 85     │\n",
       "│ September ┆ 73     │\n",
       "│ October   ┆ 91     │\n",
       "│ November  ┆ 99     │\n",
       "│ December  ┆ 97     │\n",
       "└───────────┴────────┘"
      ]
     },
     "execution_count": 40,
     "metadata": {},
     "output_type": "execute_result"
    }
   ],
   "source": [
    "# Polars Version\n",
    "pl_scores = pl.DataFrame({\n",
    "    \"month\":months,\n",
    "    \"scores\":scores\n",
    "})\n",
    "pl_scores"
   ]
  },
  {
   "cell_type": "code",
   "execution_count": 52,
   "id": "a1ccf317-c685-458c-8e92-0e51b336edde",
   "metadata": {},
   "outputs": [
    {
     "data": {
      "text/plain": [
       "np.float64(80.58333333333333)"
      ]
     },
     "execution_count": 52,
     "metadata": {},
     "output_type": "execute_result"
    }
   ],
   "source": [
    "# Pandas Student Average\n",
    "pd_scores.mean()"
   ]
  },
  {
   "cell_type": "code",
   "execution_count": 53,
   "id": "7f3e499f-40cc-477a-8f80-800932f22493",
   "metadata": {},
   "outputs": [
    {
     "data": {
      "text/html": [
       "<div><style>\n",
       ".dataframe > thead > tr,\n",
       ".dataframe > tbody > tr {\n",
       "  text-align: right;\n",
       "  white-space: pre-wrap;\n",
       "}\n",
       "</style>\n",
       "<small>shape: (1, 1)</small><table border=\"1\" class=\"dataframe\"><thead><tr><th>scores</th></tr><tr><td>f64</td></tr></thead><tbody><tr><td>87.5</td></tr></tbody></table></div>"
      ],
      "text/plain": [
       "shape: (1, 1)\n",
       "┌────────┐\n",
       "│ scores │\n",
       "│ ---    │\n",
       "│ f64    │\n",
       "╞════════╡\n",
       "│ 87.5   │\n",
       "└────────┘"
      ]
     },
     "execution_count": 53,
     "metadata": {},
     "output_type": "execute_result"
    }
   ],
   "source": [
    "# Polars Student Average\n",
    "pl_scores.select(pl.mean(\"scores\"))"
   ]
  },
  {
   "cell_type": "code",
   "execution_count": null,
   "id": "314bdd67-9854-44c3-bf5a-a80575a322b9",
   "metadata": {},
   "outputs": [],
   "source": []
  }
 ],
 "metadata": {
  "kernelspec": {
   "display_name": "Python 3 (ipykernel)",
   "language": "python",
   "name": "python3"
  },
  "language_info": {
   "codemirror_mode": {
    "name": "ipython",
    "version": 3
   },
   "file_extension": ".py",
   "mimetype": "text/x-python",
   "name": "python",
   "nbconvert_exporter": "python",
   "pygments_lexer": "ipython3",
   "version": "3.13.2"
  }
 },
 "nbformat": 4,
 "nbformat_minor": 5
}
